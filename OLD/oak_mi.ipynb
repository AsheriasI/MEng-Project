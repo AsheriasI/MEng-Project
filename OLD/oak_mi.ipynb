{
 "cells": [
  {
   "cell_type": "code",
   "execution_count": 1,
   "metadata": {},
   "outputs": [
    {
     "name": "stdout",
     "output_type": "stream",
     "text": [
      "WARNING:tensorflow:From c:\\Users\\User\\Documents\\MEng-Oak\\MEng-Project\\.venv\\Lib\\site-packages\\tf_keras\\src\\losses.py:2976: The name tf.losses.sparse_softmax_cross_entropy is deprecated. Please use tf.compat.v1.losses.sparse_softmax_cross_entropy instead.\n",
      "\n",
      "WARNING:tensorflow:From c:\\Users\\User\\Documents\\MEng-Oak\\MEng-Project\\.venv\\Lib\\site-packages\\tensorflow_probability\\python\\internal\\backend\\numpy\\_utils.py:48: The name tf.logging.TaskLevelStatusMessage is deprecated. Please use tf.compat.v1.logging.TaskLevelStatusMessage instead.\n",
      "\n",
      "WARNING:tensorflow:From c:\\Users\\User\\Documents\\MEng-Oak\\MEng-Project\\.venv\\Lib\\site-packages\\tensorflow_probability\\python\\internal\\backend\\numpy\\_utils.py:48: The name tf.control_flow_v2_enabled is deprecated. Please use tf.compat.v1.control_flow_v2_enabled instead.\n",
      "\n"
     ]
    }
   ],
   "source": [
    "# Import libraries\n",
    "import os\n",
    "import numpy as np\n",
    "import tensorflow as tf\n",
    "import matplotlib.pyplot as plt\n",
    "import matplotlib\n",
    "from scipy import io\n",
    "from sklearn.model_selection import KFold\n",
    "from pathlib import Path\n",
    "\n",
    "# Import necessary OAK modules (assuming the oak package is installed)\n",
    "from oak.model_utils import oak_model, save_model\n",
    "from oak.utils import (\n",
    "    get_model_sufficient_statistics,\n",
    "    get_prediction_component,\n",
    "    extract_active_dims,\n",
    "    get_list_representation,\n",
    "    model_to_kernel_list,\n",
    ")\n",
    "\n",
    "# Set plotting preferences and random seeds for reproducibility\n",
    "matplotlib.rcParams.update({\"font.size\": 20})\n",
    "np.set_printoptions(formatter={\"float\": lambda x: \"{0:0.5f}\".format(x)})\n",
    "np.random.seed(42)\n",
    "tf.random.set_seed(42)"
   ]
  },
  {
   "cell_type": "code",
   "execution_count": 227,
   "metadata": {},
   "outputs": [],
   "source": [
    "# Define synthetic functions\n",
    "def f1(X):\n",
    "    \"\"\"Purely 1st order Smooth function: sin(2π*x₁) + x₂² + x₃\"\"\"\n",
    "    return np.sin(2 * np.pi * X[:, 0]) + X[:, 1]**2 + 1 * X[:, 2]\n",
    "\n",
    "def f2(X):\n",
    "    \"\"\"Purely 2nd order: Less smooth function with a localized bump\"\"\"\n",
    "    base = np.sin(2 * np.pi * X[:, 0] * X[:, 2]) + 0.5 *  X[:, 1] * X[:, 2]\n",
    "    bump = np.exp(-30 * np.abs(X[:,0]*X[:,1])) # localized bump which uses 2 dimensions\n",
    "    return base + bump\n",
    "\n",
    "def f3(X):\n",
    "    \"\"\"Purely 3rd order multiplicative term\"\"\"\n",
    "    return X[:, 0] * X[:, 1] * X[:, 2]"
   ]
  },
  {
   "cell_type": "code",
   "execution_count": 228,
   "metadata": {},
   "outputs": [],
   "source": [
    "# Generate synthetic datasets\n",
    "N = 500  # number of samples\n",
    "D = 3    # number of features\n",
    "X = np.random.uniform(0, 1, (N, D))\n",
    "\n",
    "# x_1 = np.random.normal(loc=0., scale=1, size=N)\n",
    "# x_2 = np.random.normal(loc=0., scale=1, size=N)\n",
    "# x_3 = np.random.normal(loc=0., scale=1, size=N)\n",
    "\n",
    "#stack the features\n",
    "# X = np.column_stack((x_1, x_2, x_3))\n",
    "\n",
    "\n",
    "\n",
    "y1 = f1(X).reshape(-1, 1)  # dataset using f1\n",
    "y2 = f2(X).reshape(-1, 1)  # dataset using f2\n",
    "y3 = f3(X).reshape(-1, 1)  # dataset using f3\n",
    "\n",
    "\n",
    "\n",
    "# Select one dataset to work with\n",
    "X_data, y_data = X, y1\n",
    "\n",
    "# renormalise y_data to be 0 mean, 1 variance\n",
    "y_data = (y_data - y_data.mean()) / y_data.std()"
   ]
  },
  {
   "cell_type": "code",
   "execution_count": 229,
   "metadata": {},
   "outputs": [
    {
     "name": "stdout",
     "output_type": "stream",
     "text": [
      "Training set shape: (400, 3)\n",
      "Testing set shape: (100, 3)\n"
     ]
    }
   ],
   "source": [
    "# Split data into training and testing sets\n",
    "kf = KFold(n_splits=5, shuffle=True, random_state=42)\n",
    "fold = 0\n",
    "for train_index, test_index in kf.split(X_data):\n",
    "    if fold == 0:\n",
    "        X_train, X_test = X_data[train_index], X_data[test_index]\n",
    "        y_train, y_test = y_data[train_index], y_data[test_index]\n",
    "    fold += 1\n",
    "\n",
    "print(\"Training set shape:\", X_train.shape)\n",
    "print(\"Testing set shape:\", X_test.shape)"
   ]
  },
  {
   "cell_type": "code",
   "execution_count": 230,
   "metadata": {},
   "outputs": [
    {
     "name": "stdout",
     "output_type": "stream",
     "text": [
      "indices of binary feature  []\n",
      "indices of continuous feature  [0, 1, 2]\n",
      "indices of categorical feature  []\n",
      "[None, None, None]\n",
      "Using sparsity prior\n"
     ]
    },
    {
     "data": {
      "text/html": [
       "<table>\n",
       "<thead>\n",
       "<tr><th>name                                          </th><th>class    </th><th>transform       </th><th>prior  </th><th>trainable  </th><th>shape  </th><th>dtype  </th><th style=\"text-align: right;\">      value</th></tr>\n",
       "</thead>\n",
       "<tbody>\n",
       "<tr><td>GPR.kernel.kernels[0].base_kernel.lengthscales</td><td>Parameter</td><td>Sigmoid         </td><td>       </td><td>True       </td><td>()     </td><td>float64</td><td style=\"text-align: right;\">0.2369     </td></tr>\n",
       "<tr><td>GPR.kernel.kernels[1].base_kernel.lengthscales</td><td>Parameter</td><td>Sigmoid         </td><td>       </td><td>True       </td><td>()     </td><td>float64</td><td style=\"text-align: right;\">0.425844   </td></tr>\n",
       "<tr><td>GPR.kernel.kernels[2].base_kernel.lengthscales</td><td>Parameter</td><td>Sigmoid         </td><td>       </td><td>True       </td><td>()     </td><td>float64</td><td style=\"text-align: right;\">0.542707   </td></tr>\n",
       "<tr><td>GPR.kernel.variances[0]                       </td><td>Parameter</td><td>Softplus        </td><td>Gamma  </td><td>True       </td><td>()     </td><td>float64</td><td style=\"text-align: right;\">0.00134241 </td></tr>\n",
       "<tr><td>GPR.kernel.variances[1]                       </td><td>Parameter</td><td>Softplus        </td><td>Gamma  </td><td>True       </td><td>()     </td><td>float64</td><td style=\"text-align: right;\">0.184464   </td></tr>\n",
       "<tr><td>GPR.kernel.variances[2]                       </td><td>Parameter</td><td>Softplus        </td><td>Gamma  </td><td>True       </td><td>()     </td><td>float64</td><td style=\"text-align: right;\">1.77414e-19</td></tr>\n",
       "<tr><td>GPR.kernel.variances[3]                       </td><td>Parameter</td><td>Softplus        </td><td>Gamma  </td><td>True       </td><td>()     </td><td>float64</td><td style=\"text-align: right;\">2.39506e-20</td></tr>\n",
       "<tr><td>GPR.likelihood.variance                       </td><td>Parameter</td><td>Softplus + Shift</td><td>       </td><td>True       </td><td>()     </td><td>float64</td><td style=\"text-align: right;\">1e-06      </td></tr>\n",
       "</tbody>\n",
       "</table>"
      ],
      "text/plain": [
       "<IPython.core.display.HTML object>"
      ]
     },
     "metadata": {},
     "output_type": "display_data"
    },
    {
     "name": "stdout",
     "output_type": "stream",
     "text": [
      "Training took 4.4 seconds.\n"
     ]
    }
   ],
   "source": [
    "# Train the Orthogonal Additive Kernel (OAK) Model\n",
    "oak = oak_model(max_interaction_depth=X_train.shape[1])\n",
    "oak.fit(X_train, y_train)"
   ]
  },
  {
   "cell_type": "code",
   "execution_count": 231,
   "metadata": {},
   "outputs": [
    {
     "name": "stdout",
     "output_type": "stream",
     "text": [
      "R2 = 1.00000\n",
      "RMSE = 0.00221\n"
     ]
    }
   ],
   "source": [
    "# Evaluate the model on test data\n",
    "x_min, x_max = X_train.min(0), X_train.max(0)\n",
    "X_test_clipped = np.clip(X_test, x_min, x_max)\n",
    "\n",
    "# Predict using the OAK model\n",
    "y_pred = oak.predict(X_test_clipped)\n",
    "\n",
    "# Compute metrics: RSS, TSS, R2, RMSE\n",
    "rss = ((y_pred - y_test[:, 0]) ** 2).mean()\n",
    "tss = ((y_test[:, 0] - y_test[:, 0].mean()) ** 2).mean()\n",
    "r2 = 1 - rss / tss\n",
    "rmse = np.sqrt(rss)\n",
    "print(f\"R2 = {r2:.5f}\")\n",
    "print(f\"RMSE = {rmse:.5f}\")"
   ]
  },
  {
   "cell_type": "code",
   "execution_count": 232,
   "metadata": {},
   "outputs": [
    {
     "name": "stdout",
     "output_type": "stream",
     "text": [
      "Calculating Sobol indices:\n",
      "<oak.oak_kernel.OAKKernel object at 0x00000237EFB76990>\n",
      "Normalized Sobol indices: [0.77896 0.11326 0.10777 0.00000 0.00000 0.00000 0.00000]\n",
      "Kernel component indices: [[0], [1], [2], [0, 1], [0, 2], [1, 2], [0, 1, 2]]\n"
     ]
    }
   ],
   "source": [
    "# Calculate Sobol Indices for each kernel component\n",
    "print(\"Calculating Sobol indices:\")\n",
    "oak.get_sobol()\n",
    "tuple_of_indices = oak.tuple_of_indices\n",
    "normalised_sobols = oak.normalised_sobols\n",
    "print(f\"Normalized Sobol indices: {normalised_sobols}\")\n",
    "print(f\"Kernel component indices: {tuple_of_indices}\")"
   ]
  },
  {
   "cell_type": "code",
   "execution_count": 233,
   "metadata": {},
   "outputs": [
    {
     "name": "stdout",
     "output_type": "stream",
     "text": [
      "Constant term: 0.03631\n"
     ]
    }
   ],
   "source": [
    "# Get predictions for each kernel component\n",
    "# Transform test inputs and get sufficient statistics for prediction\n",
    "XT = oak._transform_x(X_test_clipped)\n",
    "oak.alpha = get_model_sufficient_statistics(oak.m, get_L=False)\n",
    "\n",
    "# Get predicted contributions for each kernel component\n",
    "prediction_list = get_prediction_component(oak.m, oak.alpha, XT)\n",
    "\n",
    "# Compute the constant term (bias) from the model.\n",
    "constant_term = oak.alpha.numpy().sum() * oak.m.kernel.variances[0].numpy()\n",
    "print(f\"Constant term: {constant_term:.5f}\")\n",
    "y_pred_component = np.ones(y_test.shape[0]) * constant_term\n",
    "\n",
    "# Cumulatively add the predictions of each component (ordered by normalized Sobol indices)\n",
    "cumulative_sobol, rmse_component = [], []\n",
    "order = np.argsort(normalised_sobols)[::-1]\n",
    "for n in order:\n",
    "    y_pred_component += prediction_list[n].numpy()\n",
    "    y_pred_component_transformed = oak.scaler_y.inverse_transform(y_pred_component.reshape(-1, 1))\n",
    "    error_component = np.sqrt(((y_pred_component_transformed - y_test) ** 2).mean())\n",
    "    rmse_component.append(error_component)\n",
    "    cumulative_sobol.append(normalised_sobols[n])\n",
    "cumulative_sobol = np.cumsum(cumulative_sobol)\n",
    "\n",
    "# Sanity check: cumulative prediction should match overall model prediction\n",
    "np.testing.assert_allclose(y_pred_component_transformed[:, 0], y_pred)"
   ]
  },
  {
   "cell_type": "code",
   "execution_count": 234,
   "metadata": {},
   "outputs": [
    {
     "data": {
      "text/plain": [
       "<Parameter: name=softplus, dtype=float64, shape=[], fn=\"softplus\", numpy=0.0013424122991329726>"
      ]
     },
     "execution_count": 234,
     "metadata": {},
     "output_type": "execute_result"
    }
   ],
   "source": [
    "oak.m.kernel.variances[0]"
   ]
  },
  {
   "cell_type": "markdown",
   "metadata": {},
   "source": [
    "Mutual Information"
   ]
  },
  {
   "cell_type": "code",
   "execution_count": 235,
   "metadata": {},
   "outputs": [
    {
     "name": "stdout",
     "output_type": "stream",
     "text": [
      "Total Variance (V_total): 1.08947\n",
      "Mutual Information for each kernel component (in nats):\n",
      "Component [0]: MI = 0.75471 nats\n",
      "Component [1]: MI = 0.06010 nats\n",
      "Component [2]: MI = 0.05702 nats\n",
      "Component [0, 1]: MI = 0.00000 nats\n",
      "Component [0, 2]: MI = 0.00000 nats\n",
      "Component [1, 2]: MI = 0.00000 nats\n",
      "Component [0, 1, 2]: MI = 0.00000 nats\n",
      "\n",
      "Mutual Information for each kernel component (in bits):\n",
      "Component [0]: MI = 1.08882 bits\n",
      "Component [1]: MI = 0.08671 bits\n",
      "Component [2]: MI = 0.08226 bits\n",
      "Component [0, 1]: MI = 0.00000 bits\n",
      "Component [0, 2]: MI = 0.00000 bits\n",
      "Component [1, 2]: MI = 0.00000 bits\n",
      "Component [0, 1, 2]: MI = 0.00000 bits\n"
     ]
    }
   ],
   "source": [
    "# Mutual Information Calculations for OAK Model Components\n",
    "# Total variance from the model's predictions\n",
    "V_total = np.var(y_pred)\n",
    "print(f\"Total Variance (V_total): {V_total:.5f}\")\n",
    "\n",
    "# Compute the variance explained by each component\n",
    "sigma_components = np.array(normalised_sobols) * V_total\n",
    "\n",
    "# Calculate MI for each component (in nats)\n",
    "MI_components_nats = 0.5 * np.log(V_total / (V_total - sigma_components))\n",
    "print(\"Mutual Information for each kernel component (in nats):\")\n",
    "for i, mi in enumerate(MI_components_nats):\n",
    "    print(f\"Component {tuple_of_indices[i]}: MI = {mi:.5f} nats\")\n",
    "\n",
    "# Convert MI from nats to bits (1 nat = 1/ln(2) bits)\n",
    "MI_components_bits = MI_components_nats / np.log(2)\n",
    "print(\"\\nMutual Information for each kernel component (in bits):\")\n",
    "for i, mi in enumerate(MI_components_bits):\n",
    "    print(f\"Component {tuple_of_indices[i]}: MI = {mi:.5f} bits\")"
   ]
  },
  {
   "cell_type": "code",
   "execution_count": 236,
   "metadata": {},
   "outputs": [
    {
     "name": "stdout",
     "output_type": "stream",
     "text": [
      "\n",
      "Total Mutual Information: 1.25779 bits\n"
     ]
    }
   ],
   "source": [
    "# total MI in bits\n",
    "total_MI_bits = MI_components_bits.sum()\n",
    "print(f\"\\nTotal Mutual Information: {total_MI_bits:.5f} bits\")"
   ]
  },
  {
   "cell_type": "code",
   "execution_count": 237,
   "metadata": {},
   "outputs": [
    {
     "data": {
      "image/png": "[encoded data removed]",
      "text/plain": [
       "<Figure size 1000x600 with 1 Axes>"
      ]
     },
     "metadata": {},
     "output_type": "display_data"
    }
   ],
   "source": [
    "# Plot Mutual Information per Kernel Component\n",
    "component_labels = [str(tup) for tup in tuple_of_indices]\n",
    "plt.figure(figsize=(10, 6))\n",
    "plt.bar(component_labels, MI_components_bits, color='skyblue', edgecolor='black')\n",
    "plt.xlabel(\"Kernel Component (Active Dimensions)\")\n",
    "plt.ylabel(\"Mutual Information (bits)\")\n",
    "plt.title(\"Mutual Information of OAK Model Components\")\n",
    "plt.xticks(rotation=45)\n",
    "plt.tight_layout()\n",
    "plt.show()"
   ]
  },
  {
   "cell_type": "code",
   "execution_count": 238,
   "metadata": {},
   "outputs": [
    {
     "name": "stdout",
     "output_type": "stream",
     "text": [
      "Joint Mutual Information for components including x1: 0.75471 nats, or 1.08882 bits\n"
     ]
    }
   ],
   "source": [
    "# Joint Mutual Information Calculation\n",
    "chosen = 0  # choose a component to calculate joint MI, note 0 indexed\n",
    "selected_indices = [i for i, dims in enumerate(tuple_of_indices) if chosen in dims]\n",
    "if len(selected_indices) > 0:\n",
    "    sigma_joint = np.sum(sigma_components[selected_indices])\n",
    "    MI_joint_nats = 0.5 * np.log(V_total / (V_total - sigma_joint))\n",
    "    MI_joint_bits = MI_joint_nats / np.log(2)\n",
    "    print(f\"Joint Mutual Information for components including x{chosen+1}: {MI_joint_nats:.5f} nats, or {MI_joint_bits:.5f} bits\")\n",
    "else:\n",
    "    print(f\"No components include {chosen+1}.\")"
   ]
  }
 ],
 "metadata": {
  "kernelspec": {
   "display_name": ".venv",
   "language": "python",
   "name": "python3"
  },
  "language_info": {
   "codemirror_mode": {
    "name": "ipython",
    "version": 3
   },
   "file_extension": ".py",
   "mimetype": "text/x-python",
   "name": "python",
   "nbconvert_exporter": "python",
   "pygments_lexer": "ipython3",
   "version": "3.12.10"
  }
 },
 "nbformat": 4,
 "nbformat_minor": 2
}
